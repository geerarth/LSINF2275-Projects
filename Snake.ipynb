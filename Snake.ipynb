{
  "nbformat": 4,
  "nbformat_minor": 0,
  "metadata": {
    "colab": {
      "name": "Snakes (without ladders)",
      "provenance": []
    },
    "kernelspec": {
      "name": "python3",
      "display_name": "Python 3"
    },
    "language_info": {
      "name": "python"
    }
  },
  "cells": [
    {
      "cell_type": "code",
      "metadata": {
        "id": "xZWNIiMqzr3F",
        "colab": {
          "base_uri": "https://localhost:8080/"
        },
        "outputId": "cbef86e5-4ee3-485a-cc73-4bacf7d45172"
      },
      "source": [
        "!pip install pygame"
      ],
      "execution_count": 4,
      "outputs": [
        {
          "output_type": "stream",
          "text": [
            "Collecting pygame\n",
            "\u001b[?25l  Downloading https://files.pythonhosted.org/packages/4b/9e/c400554dd1d0e562bd4379f35ad5023c68fc120003a58991405850f56f95/pygame-2.0.1-cp37-cp37m-manylinux1_x86_64.whl (11.8MB)\n",
            "\u001b[K     |████████████████████████████████| 11.8MB 6.4MB/s \n",
            "\u001b[?25hInstalling collected packages: pygame\n",
            "Successfully installed pygame-2.0.1\n"
          ],
          "name": "stdout"
        }
      ]
    },
    {
      "cell_type": "code",
      "metadata": {
        "id": "OOUhSF9uE4-2"
      },
      "source": [
        "#astuce sinon il met \"no video device\"\n",
        "import cv2\n",
        "from google.colab.patches import cv2_imshow\n",
        "from google.colab import output\n",
        "import time \n",
        "import os, sys\n",
        "os.environ['SDL_VIDEODRIVER']='dummy'"
      ],
      "execution_count": 5,
      "outputs": []
    },
    {
      "cell_type": "code",
      "metadata": {
        "colab": {
          "base_uri": "https://localhost:8080/",
          "height": 351
        },
        "id": "6Ixctj3FEdln",
        "outputId": "fa749c71-a946-4dee-ead3-713190869bb2"
      },
      "source": [
        "import pygame\n",
        "pygame.init()\n",
        "screen=pygame.display.set_mode((400,300))\n",
        "orange = (255, 100, 0)\n",
        "x = 50\n",
        "y = 50\n",
        "pygame.draw.rect(screen, orange, [x, y, 10, 10])\n",
        "view = pygame.surfarray.array3d(screen)\n",
        "view = view.transpose([1, 0, 2])\n",
        "img_bgr = cv2.cvtColor(view, cv2.COLOR_RGB2BGR)\n",
        "cv2_imshow(img_bgr)"
      ],
      "execution_count": 6,
      "outputs": [
        {
          "output_type": "stream",
          "text": [
            "pygame 2.0.1 (SDL 2.0.14, Python 3.7.10)\n",
            "Hello from the pygame community. https://www.pygame.org/contribute.html\n"
          ],
          "name": "stdout"
        },
        {
          "output_type": "display_data",
          "data": {
            "image/png": "[encoded data removed]",
            "text/plain": [
              "<PIL.Image.Image image mode=RGB size=400x300 at 0x7F3872205050>"
            ]
          },
          "metadata": {
            "tags": []
          }
        }
      ]
    },
    {
      "cell_type": "code",
      "metadata": {
        "colab": {
          "base_uri": "https://localhost:8080/",
          "height": 831
        },
        "id": "9G04QtJ6xAuM",
        "outputId": "1d8785e4-7f84-4b43-f3e6-7f18f5829306"
      },
      "source": [
        "import pygame\n",
        " \n",
        "pygame.init()\n",
        " \n",
        "white = (255, 255, 255)\n",
        "black = (0, 0, 0)\n",
        "red = (255, 0, 0)\n",
        " \n",
        "dis = pygame.display.set_mode((800, 600))\n",
        "pygame.display.set_caption('Snake Game by Edureka')\n",
        " \n",
        "game_over = False\n",
        " \n",
        "x1 = 300\n",
        "y1 = 300\n",
        " \n",
        "x1_change = 0       \n",
        "y1_change = 0\n",
        " \n",
        "clock = pygame.time.Clock()\n",
        " \n",
        "while not game_over:\n",
        "    for event in pygame.event.get():\n",
        "        if event.type == pygame.QUIT:\n",
        "            game_over = True\n",
        "        if event.type == pygame.KEYDOWN:\n",
        "            if event.key == pygame.K_LEFT:\n",
        "                x1_change = -10\n",
        "                y1_change = 0\n",
        "            elif event.key == pygame.K_RIGHT:\n",
        "                x1_change = 10\n",
        "                y1_change = 0\n",
        "            elif event.key == pygame.K_UP:\n",
        "                y1_change = -10\n",
        "                x1_change = 0\n",
        "            elif event.key == pygame.K_DOWN:\n",
        "                y1_change = 10\n",
        "                x1_change = 0\n",
        " \n",
        "    x1 += x1_change\n",
        "    y1 += y1_change\n",
        "    dis.fill(white)\n",
        "    pygame.draw.rect(dis, black, [x1, y1, 10, 10])\n",
        " \n",
        "    view = pygame.surfarray.array3d(dis)\n",
        "    view = view.transpose([1, 0, 2])\n",
        "    img_bgr = cv2.cvtColor(view, cv2.COLOR_RGB2BGR)\n",
        "    cv2_imshow(img_bgr)\n",
        "    time.sleep(0.5)\n",
        "    output.clear()\n",
        "\n",
        "    pygame.display.update()\n",
        " \n",
        "    clock.tick(30)\n",
        " \n",
        "pygame.quit()\n",
        "quit()"
      ],
      "execution_count": 8,
      "outputs": [
        {
          "output_type": "display_data",
          "data": {
            "image/png": "[encoded data removed]",
            "text/plain": [
              "<PIL.Image.Image image mode=RGB size=800x600 at 0x7F38531208D0>"
            ]
          },
          "metadata": {
            "tags": []
          }
        },
        {
          "output_type": "error",
          "ename": "KeyboardInterrupt",
          "evalue": "ignored",
          "traceback": [
            "\u001b[0;31m---------------------------------------------------------------------------\u001b[0m",
            "\u001b[0;31mKeyboardInterrupt\u001b[0m                         Traceback (most recent call last)",
            "\u001b[0;32m<ipython-input-8-820caed62720>\u001b[0m in \u001b[0;36m<module>\u001b[0;34m()\u001b[0m\n\u001b[1;32m     47\u001b[0m     \u001b[0mimg_bgr\u001b[0m \u001b[0;34m=\u001b[0m \u001b[0mcv2\u001b[0m\u001b[0;34m.\u001b[0m\u001b[0mcvtColor\u001b[0m\u001b[0;34m(\u001b[0m\u001b[0mview\u001b[0m\u001b[0;34m,\u001b[0m \u001b[0mcv2\u001b[0m\u001b[0;34m.\u001b[0m\u001b[0mCOLOR_RGB2BGR\u001b[0m\u001b[0;34m)\u001b[0m\u001b[0;34m\u001b[0m\u001b[0;34m\u001b[0m\u001b[0m\n\u001b[1;32m     48\u001b[0m     \u001b[0mcv2_imshow\u001b[0m\u001b[0;34m(\u001b[0m\u001b[0mimg_bgr\u001b[0m\u001b[0;34m)\u001b[0m\u001b[0;34m\u001b[0m\u001b[0;34m\u001b[0m\u001b[0m\n\u001b[0;32m---> 49\u001b[0;31m     \u001b[0mtime\u001b[0m\u001b[0;34m.\u001b[0m\u001b[0msleep\u001b[0m\u001b[0;34m(\u001b[0m\u001b[0;36m0.5\u001b[0m\u001b[0;34m)\u001b[0m\u001b[0;34m\u001b[0m\u001b[0;34m\u001b[0m\u001b[0m\n\u001b[0m\u001b[1;32m     50\u001b[0m     \u001b[0moutput\u001b[0m\u001b[0;34m.\u001b[0m\u001b[0mclear\u001b[0m\u001b[0;34m(\u001b[0m\u001b[0;34m)\u001b[0m\u001b[0;34m\u001b[0m\u001b[0;34m\u001b[0m\u001b[0m\n\u001b[1;32m     51\u001b[0m \u001b[0;34m\u001b[0m\u001b[0m\n",
            "\u001b[0;31mKeyboardInterrupt\u001b[0m: "
          ]
        }
      ]
    }
  ]
}